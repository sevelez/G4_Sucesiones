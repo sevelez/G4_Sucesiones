{
 "cells": [
  {
   "cell_type": "markdown",
   "metadata": {
    "id": "Jsg7AmugfdN3"
   },
   "source": [
    "# Problema 1"
   ]
  },
  {
   "cell_type": "markdown",
   "metadata": {
    "id": "_IzpNklvfgKe"
   },
   "source": [
    "Considere la sucesión $a_{n} = 3n^{2} + 7$. Por medio de un código en *Python* despliega en pantalla:\n",
    "\n",
    "1. Los primeros $5$ términos.\n",
    "2. Los $5$ términos que vienen inmediatamente después del decimoquinto término."
   ]
  },
  {
   "cell_type": "code",
   "execution_count": 9,
   "metadata": {},
   "outputs": [
    {
     "name": "stdout",
     "output_type": "stream",
     "text": [
      "1 ° 10\n",
      "2 ° 19\n",
      "3 ° 34\n",
      "4 ° 55\n",
      "5 ° 82\n",
      "\n",
      "16 ° 775\n",
      "17 ° 874\n",
      "18 ° 979\n",
      "19 ° 1090\n",
      "20 ° 1207\n"
     ]
    }
   ],
   "source": [
    "\n",
    "#a1, a2, a3, a4, a5,........, a16, a17, a18, a19, a20\n",
    "def sucesion(n):\n",
    "    return 3*n**2+7\n",
    "\n",
    "for i in range(1,6):\n",
    "    print(f'{i} ° {sucesion(i)}')\n",
    "print()\n",
    "for j in range(16,21):\n",
    "    print(f'{j} ° {sucesion(j)}')"
   ]
  },
  {
   "cell_type": "markdown",
   "metadata": {
    "id": "MpHLoYWfk97E"
   },
   "source": [
    "# Problema 2"
   ]
  },
  {
   "cell_type": "markdown",
   "metadata": {
    "id": "TdrPqS7Mk_l0"
   },
   "source": [
    "Considere la sucesión $g_{n} = 5n^{3}$. Implemente un código en *Python* que muestre en pantalla:\n",
    "\n",
    "1. Los primeros $4$ términos de la sucesión.\n",
    "2. Los $4$ términos que vienen inmediatamente después del octavo término.\n",
    "3. Determinar si el término $40.000$ pertenece a la sucesión. Si es así, indicar en qué posición se encuentra."
   ]
  },
  {
   "cell_type": "code",
   "execution_count": 17,
   "metadata": {},
   "outputs": [
    {
     "name": "stdout",
     "output_type": "stream",
     "text": [
      "1°) 5\n",
      "2°) 40\n",
      "3°) 135\n",
      "4°) 320\n",
      "\n",
      "9°) 3645\n",
      "10°) 5000\n",
      "11°) 6655\n",
      "12°) 8640\n",
      "\n",
      "El termino 40000 pertenece a la sucesion y se encuentra en la posicion 20\n"
     ]
    }
   ],
   "source": [
    "#1\n",
    "def g(n):\n",
    "    return 5*n**3\n",
    "for i in range(1,5):\n",
    "    print(f'{i}°) {g(i)}')\n",
    "print()\n",
    "#2\n",
    "for i in range(9,13):\n",
    "    print(f'{i}°) {g(i)}')\n",
    "\n",
    "#3\n",
    "final=40000\n",
    "termino=0\n",
    "n=0\n",
    "dif=final-termino\n",
    "while dif>0:\n",
    "    n+=1\n",
    "    termino=5*n**3\n",
    "    dif=final-termino\n",
    "if dif==0:\n",
    "        print(f'\\nEl termino {final} pertenece a la sucesion y se encuentra en la posicion {n}')\n",
    "else:\n",
    "        print(f'\\nEl termino {final} no pertenece a la sucesion ')    "
   ]
  },
  {
   "cell_type": "markdown",
   "metadata": {
    "id": "7GDU-KDLuR7i"
   },
   "source": [
    "# Problema 3"
   ]
  },
  {
   "cell_type": "markdown",
   "metadata": {
    "id": "GG1duXd1uU6Z"
   },
   "source": [
    "La sucesión de Fibonacci es una serie de números en la que cada número, desde el tercero en adelante, es la suma de los dos anteriores. Comienza con el $0$ y $1$, tal como se observa a continuación:\n",
    "\n",
    "$$0, 1, 1, 2, 3, 5, 8, 13, ...$$\n",
    "\n",
    "Formalmente, la sucesión se define de la siguiente manera:\n",
    "\n",
    "\\begin{split}\n",
    "F(0) &= 0\\\\\n",
    "F(1) &= 1\\\\\n",
    "F(n) &= F(n - 1) + F(n - 2), \\ \\text{ para $n \\geq 2$}\n",
    "\\end{split}\n",
    "\n",
    "Esta sucesión se utiliza en una variedad de contextos en informática y algoritmos debido a sus propiedades matemáticas y patrones.\n",
    "\n",
    "1. Implementa un código en *Python* que muestre en pantalla los primeros $20$ términos de la sucesión.\n",
    "2. Calcula, utilizando un ciclo *for*, la suma de los primeros $30$ términos de la sucesión de Fibonacci."
   ]
  },
  {
   "cell_type": "code",
   "execution_count": 25,
   "metadata": {},
   "outputs": [
    {
     "name": "stdout",
     "output_type": "stream",
     "text": [
      "Los primeros 20 términos son: \n",
      "[0, 1, 1, 2, 3, 5, 8, 13, 21, 34, 55, 89, 144, 233, 377, 610, 987, 1597, 2584, 4181]\n",
      "La suma total es: 10945 \n"
     ]
    }
   ],
   "source": [
    "fib=[]\n",
    "total=0\n",
    "q=20\n",
    "\n",
    "for i in range (q):\n",
    "    if i ==0:\n",
    "        fib.append(0)\n",
    "    elif i ==1:\n",
    "        fib.append(1)\n",
    "    else:\n",
    "        fib.append(fib[i-1] + fib[i-2])\n",
    "print(f'Los primeros {q} términos son: ')\n",
    "print(fib)\n",
    "for k in fib:\n",
    "    total+=k\n",
    "print(f'La suma total es: {total} ')    \n"
   ]
  },
  {
   "cell_type": "markdown",
   "metadata": {
    "id": "OFL3b7nt8Rq_"
   },
   "source": [
    "# Problema 4"
   ]
  },
  {
   "cell_type": "markdown",
   "metadata": {
    "id": "j5QlZQwJSDsZ"
   },
   "source": [
    "Implementa un código que permita guardar en una lista la sucesión de los primeros $n$ números pares, con $n \\geq 1$. Luego, determina:\n",
    "\n",
    "1. ¿Cuál es el valor del décimo término?\n",
    "2. Calcula, utilizando un ciclo *for*, la suma de los primeros $100$ números pares.\n",
    "3. ¿En qué posición se encuentra el número $58$ dentro de la sucesión?"
   ]
  },
  {
   "cell_type": "code",
   "execution_count": 8,
   "metadata": {},
   "outputs": [
    {
     "name": "stdout",
     "output_type": "stream",
     "text": [
      "[2, 4, 6, 8, 10, 12, 14, 16, 18, 20]\n",
      "La suma de los primeros 100 numeros es: 10100\n",
      "Al tratarse de un sucesion par el 58 se encuentra en la posicion: 29\n"
     ]
    }
   ],
   "source": [
    "lista = []\n",
    "n=0\n",
    "def sucesiones_pares(n):\n",
    "    for i in range (n):\n",
    "     lista.append(2 * (i + 1))  \n",
    "\n",
    "    return lista\n",
    "\n",
    "print(f'{sucesiones_pares(10)}')\n",
    "\n",
    "suma=0     # Define suma para ir agregando los valores sumados\n",
    "suma100=100 # constante para que sume 100 numeros\n",
    "for l in range(suma100):\n",
    "    suma += 2 * (l + 1)  \n",
    "print(f'La suma de los primeros 100 numeros es: {suma}')\n",
    "\n",
    "posicion=0\n",
    "num=58\n",
    "posicion=58//2\n",
    "print(f'Al tratarse de un sucesion par el 58 se encuentra en la posicion: {posicion}')      "
   ]
  },
  {
   "cell_type": "markdown",
   "metadata": {
    "id": "gBcDYpK2Z3GT"
   },
   "source": [
    "# Problema 5"
   ]
  },
  {
   "cell_type": "markdown",
   "metadata": {
    "id": "eS3i68R4Z6YQ"
   },
   "source": [
    "Un nuevo software tiene $500$ usuarios y se espera que el número de usuarios crezca un $15\\%$ respecto al mes anterior. Considere que $b_{n}$ es el número de usuarios transcurridos $n$ meses.\n",
    "\n",
    "1. Calcula cuántos usuarios tendrá el software al cabo de tres meses. ¿Y al cabo de seis meses?\n",
    "2. Mediante un código en *Pyhton* muestra la cantidad de usuarios que tendrá el software cada mes durante el primer año.\n",
    "2. ¿Cuántos usuarios tendrá en total el software luego de un año? Utilice ciclos *for* para calcular."
   ]
  },
  {
   "cell_type": "code",
   "execution_count": 20,
   "metadata": {},
   "outputs": [
    {
     "name": "stdout",
     "output_type": "stream",
     "text": [
      "usuarios despues de 3 meses son: 760.44\n",
      "usuarios despues de 6 meses son: 1156.53\n",
      "\n",
      "cantidad de usuarios al 1° mes = 500.0\n",
      "cantidad de usuarios al 2° mes = 575.0\n",
      "cantidad de usuarios al 3° mes = 661.25\n",
      "cantidad de usuarios al 4° mes = 760.44\n",
      "cantidad de usuarios al 5° mes = 874.5\n",
      "cantidad de usuarios al 6° mes = 1005.68\n",
      "cantidad de usuarios al 7° mes = 1156.53\n",
      "cantidad de usuarios al 8° mes = 1330.01\n",
      "cantidad de usuarios al 9° mes = 1529.51\n",
      "cantidad de usuarios al 10° mes = 1758.94\n",
      "cantidad de usuarios al 11° mes = 2022.78\n",
      "cantidad de usuarios al 12° mes = 2326.2\n"
     ]
    }
   ],
   "source": [
    "\n",
    "def usuarios(m):\n",
    "    return round(500*(1.15)**m,2)\n",
    "print(f'usuarios despues de 3 meses son: {usuarios(3)}')\n",
    "print(f'usuarios despues de 6 meses son: {usuarios(6)}\\n')\n",
    "\n",
    "for i in range (0,12):\n",
    "    print(f'cantidad de usuarios al {i+1}° mes = {usuarios(i)}')"
   ]
  },
  {
   "cell_type": "markdown",
   "metadata": {
    "id": "s2hruXWnJDbS"
   },
   "source": [
    "# Problema 6"
   ]
  },
  {
   "cell_type": "markdown",
   "metadata": {
    "id": "hH_VNmA_Og0U"
   },
   "source": [
    "Un estudiante de ingeniería informática planea ahorrar para un proyecto personal. Para esto, el primer mes deposita en una cuenta $\\$12.000$, el segundo mes deposita $\\$14.000$ y así sucesivamente, de modo que cada mes aumenta el depósito en $\\$2.000$. Considere que $a_{i}$ corresponde al depósito del estudiante en el mes $i$.\n",
    "\n",
    "1. Implementa un código que permita mostrar en pantalla lo que depositó mensualmente durante el primer año.\n",
    "2. ¿Cuánto depositó el estudiante en febrero del segundo año?\n",
    "3. ¿Cuál será el total ahorrado al finalizar dos años?"
   ]
  },
  {
   "cell_type": "code",
   "execution_count": 6,
   "metadata": {},
   "outputs": [
    {
     "name": "stdout",
     "output_type": "stream",
     "text": [
      "El mes 1 ha recaudado $12000 \n",
      "El mes 2 ha recaudado $14000 \n",
      "El mes 3 ha recaudado $16000 \n",
      "El mes 4 ha recaudado $18000 \n",
      "El mes 5 ha recaudado $20000 \n",
      "El mes 6 ha recaudado $22000 \n",
      "El mes 7 ha recaudado $24000 \n",
      "El mes 8 ha recaudado $26000 \n",
      "El mes 9 ha recaudado $28000 \n",
      "El mes 10 ha recaudado $30000 \n",
      "El mes 11 ha recaudado $32000 \n",
      "El mes 12 ha recaudado $34000 \n",
      "\n",
      "2°) En febrero del segundo año depositó: $38000\n",
      "\n",
      "3°) Al finalizar 2 años ha recaudado: $840000\n"
     ]
    }
   ],
   "source": [
    "def proyecto(a):\n",
    "    return 12000 + 2000*(a-1) \n",
    "\n",
    "for i in range (1,13):\n",
    "    print(f'El mes {i} ha recaudado ${proyecto(i)} ')\n",
    "    \n",
    "print(f'\\n2°) En febrero del segundo año depositó: ${proyecto(14)}')\n",
    "\n",
    "segundo=[proyecto(a) for a in range(1,25)] # Se deben ir sumando los depositos acumulados :) \n",
    "suma_segundo= sum(segundo)\n",
    "print(f'\\n3°) Al finalizar 2 años ha recaudado: ${suma_segundo}')"
   ]
  },
  {
   "cell_type": "markdown",
   "metadata": {
    "id": "G9sEfl4rB3e8"
   },
   "source": [
    "# Problema 7"
   ]
  },
  {
   "cell_type": "markdown",
   "metadata": {
    "id": "KZUNnG20CT4F"
   },
   "source": [
    "Por lo general, los proyectos son organizados en varias etapas que deben completarse secuencialmente.\n",
    "\n",
    "La fase inicial de un proyecto de software tiene una duración de $3$ meses y cada fase subsecuente reduce su duración en un $10 \\%$ debido a la experiencia ganada. Determine:\n",
    "\n",
    "1. ¿Cuánto dura la quinta fase?\n",
    "2. Calcula la duración total del proyecto después de $10$ fases."
   ]
  },
  {
   "cell_type": "code",
   "execution_count": 12,
   "metadata": {},
   "outputs": [
    {
     "name": "stdout",
     "output_type": "stream",
     "text": [
      "La quinta fase dura: 1.97 meses... \n",
      "La décima fase tiene una duración total de 19.54 meses\n"
     ]
    }
   ],
   "source": [
    "def y(x):\n",
    "    return 3*0.9**(x-1)\n",
    "print(f'La quinta fase dura: {round(y(5),2)} meses... ')\n",
    "\n",
    "duracion=[y(x) for x in range (1,11)] # la variable dentro de la funcion debe ser igual a la que va dentro del for\n",
    "suma=sum(duracion)\n",
    "print(f'La décima fase tiene una duración total de {round(suma,2)} meses')\n"
   ]
  },
  {
   "cell_type": "markdown",
   "metadata": {
    "id": "keVOy_xIlU1E"
   },
   "source": [
    "# Problema 8"
   ]
  },
  {
   "cell_type": "markdown",
   "metadata": {
    "id": "QXrNG-zulXil"
   },
   "source": [
    "En una sucesión aritmética, la diferencia entre un término y el anterior es $4$ y el décimo término es $-20$. Determine:\n",
    "\n",
    "1. El primer término de la sucesión.\n",
    "2. La expresión del término de lugar $n$.\n",
    "3. Utilice un código en *Python* para calcular el término que ocupa el lugar $100$.\n",
    "4. Determinar la posición del número $1.680$ en la secuencia. Calcule utilizando un ciclo *while*."
   ]
  },
  {
   "cell_type": "code",
   "execution_count": 28,
   "metadata": {},
   "outputs": [
    {
     "name": "stdout",
     "output_type": "stream",
     "text": [
      " \n",
      "El primer término es:   \n",
      " a10 =  a1 +(10-1) * 4 \n",
      " -20 = a1 +(10-1) * 4 \n",
      " -20 = a1 +9 * 4\n",
      " -20 = a1 + 36\n",
      "  a1 = -20 -36\n",
      "  a1 = -56\n",
      "  \n",
      "la expresión del término \"n\" es:\n",
      " a_n = -56+(n-1)*4\n",
      "\n",
      "El término de la sucesión es: 340 \n",
      "\n",
      "1680 está en la posición: 435\n"
     ]
    }
   ],
   "source": [
    "print(\"\"\" \n",
    "El primer término es:   \n",
    " a10 =  a1 +(10-1) * 4 \n",
    " -20 = a1 +(10-1) * 4 \n",
    " -20 = a1 +9 * 4\n",
    " -20 = a1 + 36\n",
    "  a1 = -20 -36\n",
    "  a1 = -56\n",
    "  \"\"\")\n",
    "print('la expresión del término \"n\" es:\\n a_n = -56+(n-1)*4\\n')\n",
    "def a(n):\n",
    "    return -56+(n-1)*4\n",
    "print(f'El término de la sucesión es: {a(100)} \\n')\n",
    "\n",
    "ciclo=True\n",
    "n=0\n",
    "while(ciclo):\n",
    "    n+=1\n",
    "    if a(n)==1680:\n",
    "        print(f'1680 está en la posición: {n}')\n",
    "        ciclo=False\n",
    "\n"
   ]
  },
  {
   "cell_type": "markdown",
   "metadata": {
    "id": "gFYqGSbdqoqT"
   },
   "source": [
    "# Problema 9"
   ]
  },
  {
   "cell_type": "markdown",
   "metadata": {
    "id": "UtblbNCYqxOM"
   },
   "source": [
    "El tercer término de una sucesión geométrica es $5$ y el sexto término es $40$. Determine:\n",
    "\n",
    "1. La razón geométrica de la sucesión.\n",
    "2. El primer término de la sucesión.\n",
    "3. La expresión del término de lugar $n$.\n",
    "4. Utilice un código en *Python* para calcular el término que ocupa el lugar $8$.\n",
    "4. ¿Qué lugar ocupa en esta sucesión el término $20.480$? Calcule utilizando un ciclo *while*."
   ]
  },
  {
   "cell_type": "code",
   "execution_count": 1,
   "metadata": {},
   "outputs": [
    {
     "name": "stdout",
     "output_type": "stream",
     "text": [
      " \n",
      "1°)\n",
      "      an = a1*r**(n-1)\n",
      "      a3 = a1*r**(2) == 5\n",
      "      a6 = a1*r**(5) == 40\n",
      "      dividimos ambas formulas para elminar variables y nos queda:\n",
      "      r**6/r**3 = 40/5\n",
      "      r**3 = 8\n",
      "      r=2\n",
      "      \n",
      "\n",
      "2°)\n",
      "      a3=a1*2**2\n",
      "      5 = a1*2**2\n",
      "      5 = a1 * 4\n",
      "      5/4 = a1\n",
      "      1.25 = a1      \n",
      "      \n",
      "\n",
      "3°)\n",
      "      an = 1.25*2**(n-1)\n",
      "      donde: \n",
      "      1.25 ->  es el primer término de la sucesión\n",
      "      2 -> es la razón geométrica  \n",
      "      \n",
      "4°)\n",
      "     El termino del lugar 8 es: 160.0\n",
      "5°) \n",
      "  20480 está en la posición: 15\n"
     ]
    }
   ],
   "source": [
    "print(\"\"\" \n",
    "1°)\n",
    "      an = a1*r**(n-1)\n",
    "      a3 = a1*r**(2) == 5\n",
    "      a6 = a1*r**(5) == 40\n",
    "      dividimos ambas formulas para elminar variables y nos queda:\n",
    "      r**6/r**3 = 40/5\n",
    "      r**3 = 8\n",
    "      r=2\n",
    "      \"\"\")\n",
    "print(\"\"\"\n",
    "2°)\n",
    "      a3=a1*2**2\n",
    "      5 = a1*2**2\n",
    "      5 = a1 * 4\n",
    "      5/4 = a1\n",
    "      1.25 = a1      \n",
    "      \"\"\")\n",
    "print(\"\"\"\n",
    "3°)\n",
    "      an = 1.25*2**(n-1)\n",
    "      donde: \n",
    "      1.25 ->  es el primer término de la sucesión\n",
    "      2 -> es la razón geométrica  \n",
    "      \"\"\")\n",
    "\n",
    "def suc(n):\n",
    "    return round(1.25*2**(n-1),2)\n",
    "print(f'4°)\\n     El termino del lugar 8 es: {suc(8)}')\n",
    "\n",
    "ciclo=True\n",
    "n=0\n",
    "while(ciclo):\n",
    "    n+=1\n",
    "    if suc(n)==20480:\n",
    "        print(f'5°) \\n  20480 está en la posición: {n}')\n",
    "        ciclo=False"
   ]
  },
  {
   "cell_type": "markdown",
   "metadata": {
    "id": "Ju4J8uWfxQKk"
   },
   "source": [
    "# Problema 10"
   ]
  },
  {
   "cell_type": "markdown",
   "metadata": {
    "id": "F6FPVCXQxTMj"
   },
   "source": [
    "Una empresa de tecnología está optimizando sus servidores. Para ello mide las transacciones por segundo (TPS) de sus servidores en cada mes. Se ha obtenido que en el segundo mes, el rendimiento del servidor fue $1,2$ miles de TPS y en el quinto mes, el rendimiento fue $2,7$ miles de TPS. Si el número de TPS que hay mes a mes sigue una sucesión geométrica, determina utilizando un código en *Python*:\n",
    "\n",
    "1. ¿Cuál es el rendimiento el noveno mes?\n",
    "2. ¿En qué mes el rendimiento es de $23,4$ miles de TPS?\n",
    "\n",
    "Utilice dos decimales para el cálculo."
   ]
  },
  {
   "cell_type": "code",
   "execution_count": 10,
   "metadata": {},
   "outputs": [
    {
     "name": "stdout",
     "output_type": "stream",
     "text": [
      "La fórmula de la sucesión es:\n",
      "an = 0.92*1.31**(n-1)\n",
      "1°)\n",
      "El rendimiento al 9no mes sería: 7.98 miles de TPS\n"
     ]
    },
    {
     "ename": "OverflowError",
     "evalue": "(34, 'Result too large')",
     "output_type": "error",
     "traceback": [
      "\u001b[1;31m---------------------------------------------------------------------------\u001b[0m",
      "\u001b[1;31mOverflowError\u001b[0m                             Traceback (most recent call last)",
      "Cell \u001b[1;32mIn[10], line 21\u001b[0m\n\u001b[0;32m     19\u001b[0m \u001b[38;5;28;01mwhile\u001b[39;00m(ciclo):\n\u001b[0;32m     20\u001b[0m     n\u001b[38;5;241m+\u001b[39m\u001b[38;5;241m=\u001b[39m\u001b[38;5;241m1\u001b[39m\n\u001b[1;32m---> 21\u001b[0m     \u001b[38;5;28;01mif\u001b[39;00m \u001b[38;5;28mabs\u001b[39m(\u001b[43mren\u001b[49m\u001b[43m(\u001b[49m\u001b[43mn\u001b[49m\u001b[43m)\u001b[49m \u001b[38;5;241m-\u001b[39m \u001b[38;5;241m23.4\u001b[39m)\u001b[38;5;241m<\u001b[39m\u001b[38;5;241m=\u001b[39mtolerancia:\n\u001b[0;32m     22\u001b[0m         \u001b[38;5;28mprint\u001b[39m(\u001b[38;5;124mf\u001b[39m\u001b[38;5;124m'\u001b[39m\u001b[38;5;124m2°) \u001b[39m\u001b[38;5;130;01m\\n\u001b[39;00m\u001b[38;5;124malcanza los 23.4 miles de TPS en el mes: \u001b[39m\u001b[38;5;132;01m{\u001b[39;00mn\u001b[38;5;132;01m}\u001b[39;00m\u001b[38;5;124m'\u001b[39m)\n\u001b[0;32m     23\u001b[0m         ciclo\u001b[38;5;241m=\u001b[39m\u001b[38;5;28;01mFalse\u001b[39;00m\n",
      "Cell \u001b[1;32mIn[10], line 13\u001b[0m, in \u001b[0;36mren\u001b[1;34m(n)\u001b[0m\n\u001b[0;32m     12\u001b[0m \u001b[38;5;28;01mdef\u001b[39;00m \u001b[38;5;21mren\u001b[39m(n):\n\u001b[1;32m---> 13\u001b[0m     \u001b[38;5;28;01mreturn\u001b[39;00m \u001b[38;5;28mround\u001b[39m(\u001b[38;5;241m0.92\u001b[39m\u001b[38;5;241m*\u001b[39m\u001b[38;5;241;43m1.31\u001b[39;49m\u001b[38;5;241;43m*\u001b[39;49m\u001b[38;5;241;43m*\u001b[39;49m\u001b[43m(\u001b[49m\u001b[43mn\u001b[49m\u001b[38;5;241;43m-\u001b[39;49m\u001b[38;5;241;43m1\u001b[39;49m\u001b[43m)\u001b[49m,\u001b[38;5;241m2\u001b[39m)\n",
      "\u001b[1;31mOverflowError\u001b[0m: (34, 'Result too large')"
     ]
    }
   ],
   "source": [
    "#a2 = a1*r**(1) == 1.2\n",
    "#a5 = a1*r**(4) == 2.7\n",
    "# r**3 = 2.7/1.2\n",
    "# r**3 = 2.25\n",
    "# r = 1.31\n",
    "\n",
    "# a2= a1*r \n",
    "# a1 = a2 / r\n",
    "# a1 = 1.2 / 1.31\n",
    "# a1 = 0.92\n",
    "print('La fórmula de la sucesión es:\\nan = 0.92*1.31**(n-1)')\n",
    "def ren(n):\n",
    "    return round(0.92*1.31**(n-1),2)\n",
    "print(f'1°)\\nEl rendimiento al 9no mes sería: {ren(9)} miles de TPS')\n",
    "  \n",
    "ciclo=True\n",
    "n = 0\n",
    "tolerancia =0.01\n",
    "while(ciclo):\n",
    "    n+=1\n",
    "    if abs(ren(n) - 23.4)<=tolerancia:\n",
    "        print(f'2°) \\nalcanza los 23.4 miles de TPS en el mes: {n}')\n",
    "        ciclo=False"
   ]
  },
  {
   "cell_type": "markdown",
   "metadata": {
    "id": "jxQyaJXUCW7m"
   },
   "source": [
    "# Problema 11"
   ]
  },
  {
   "cell_type": "markdown",
   "metadata": {
    "id": "8LdxsBUwDfbf"
   },
   "source": [
    "Una aplicación de redes sociales se estrenó el $1$ de enero con una cierta cantidad de usuarios. A partir de ahí, el número de usuarios nuevos de cada día fue siempre el mismo. El $3$ de enero tenía $500$ usuarios en total y el $10$ de enero tenía $1.501$ usuarios totales.Determine:\n",
    "\n",
    "1. ¿Con cuántos usuarios comenzó a funcionar la aplicación?\n",
    "2. ¿Cuántos usuarios tendrá la aplicación el $31$ de enero?\n",
    "3. Si la aplicación tiene $5.505$ usuarios, ¿cuántos meses lleva funcionando?\n",
    "\n"
   ]
  },
  {
   "cell_type": "code",
   "execution_count": 15,
   "metadata": {},
   "outputs": [
    {
     "name": "stdout",
     "output_type": "stream",
     "text": [
      "\n",
      "1°)\n",
      "Calculamos los usuarios inciales:       \n",
      "        u3  = u1 +(2)*d == 500          \n",
      "        u10 = u1 +(9)*d == 1501\n",
      "            \n",
      "        1501 = u1 +(9)*d     Aplicarermos sistemas de ecuaaciones \n",
      "        500 =  u1 +(2)*d   \n",
      "            \n",
      "        u1 = 1501 - 9*d <- 2u1 = 3002 -18*d\n",
      "        u1 = 500 - 2*d <- -9u1 = -4500 +18*d\n",
      "\n",
      "        -7u1 = -1498 // divido todo por -7\n",
      "            u1 = 214\n",
      "La cantidad de usuarios iniciales es 214           \n",
      " \n",
      "\n",
      "La diferencia es:\n",
      "      500 = 214 + 2*d\n",
      "      286 = 2*d / divido entre 2 ambas partes \n",
      "      d = 143\n",
      "      \n",
      "\n",
      "La fórmula general de la sucesión aritmética es: \n",
      "      un = 214+(n-1)*143 \n",
      "2°)\n",
      "La app tendrá: 4504 usuarios el 31 de enero\n",
      "3°)\n",
      "Alncanza los 5505 usuarios al pasar: 38 días\n"
     ]
    }
   ],
   "source": [
    "# un = u1 +(n-1)*d\n",
    "print(\"\"\"\n",
    "1°)\\nCalculamos los usuarios inciales:       \n",
    "        u3  = u1 +(2)*d == 500          \n",
    "        u10 = u1 +(9)*d == 1501\n",
    "            \n",
    "        1501 = u1 +(9)*d     Aplicarermos sistemas de ecuaaciones \n",
    "        500 =  u1 +(2)*d   \n",
    "            \n",
    "        u1 = 1501 - 9*d <- 2u1 = 3002 -18*d\n",
    "        u1 = 500 - 2*d <- -9u1 = -4500 +18*d\n",
    "\n",
    "        -7u1 = -1498 // divido todo por -7\n",
    "            u1 = 214\n",
    "La cantidad de usuarios iniciales es 214           \n",
    " \"\"\")\n",
    "print(\"\"\"\n",
    "La diferencia es:\n",
    "      500 = 214 + 2*d\n",
    "      286 = 2*d / divido entre 2 ambas partes \n",
    "      d = 143\n",
    "      \"\"\")\n",
    "print('''\n",
    "La fórmula general de la sucesión aritmética es: \n",
    "      un = 214+(n-1)*143 ''')\n",
    "\n",
    "def app(n):\n",
    "    return 214+(n-1)*143\n",
    "print(f'2°)\\nLa app tendrá: {app(31)} usuarios el 31 de enero')\n",
    "\n",
    "cicle =True\n",
    "n=0\n",
    "\n",
    "while(cicle):\n",
    "    n+=1\n",
    "    if(app(n) == 5505):\n",
    "        print(f'3°)\\nAlncanza los 5505 usuarios al pasar: {n} días')\n",
    "        cicle= False"
   ]
  },
  {
   "cell_type": "markdown",
   "metadata": {
    "id": "zBN3BhYVLLSe"
   },
   "source": [
    "# Problema 12"
   ]
  },
  {
   "cell_type": "markdown",
   "metadata": {
    "id": "kszkhh_GLQN1"
   },
   "source": [
    "Una empresa de publicidad ofrece para un puesto de trabajo un salario inicial y un aumento mensual en una razón constante. Javier se presenta a la entrevista, y el encargado del departamento de recursos humanos le explica que en el segundo mes de trabajo su sueldo será de $\\$402.000$, y que en el tercer mes de trabajo será de $\\$404.010$. Determine:\n",
    "\n",
    "1. El salario aproximado que Javier recibiría en el décimo mes de trabajo en la empresa.\n",
    "2. ¿Cuál sería el ingreso total recibido por los sueldos de Javier durante el tercer año de trabajo?"
   ]
  },
  {
   "cell_type": "markdown",
   "metadata": {
    "id": "-lx5k4b9Y8sD"
   },
   "source": [
    "# Problema 13"
   ]
  },
  {
   "cell_type": "markdown",
   "metadata": {
    "id": "OVuWQuXsY_pp"
   },
   "source": [
    "Una empresa de ciberseguridad capacita trabajadores cada trimestre. En el primer trimestre capacitaron a $30$ trabajadores, en el segundo trimestre a $60$ trabajadores, y en el tercer trimestre a $120$ trabajadores. Si en los siguientes trimestres la empresa mantiene el mismo patrón de crecimiento, determine utilizando *Python*:\n",
    "\n",
    "1. ¿A cuántos trabajadores capacitarán en el octavo trimestre?\n",
    "2. Si la empresa lleva en el mercado $3$ años, ¿a cuántos trabajadores han capacitado en total?"
   ]
  },
  {
   "cell_type": "markdown",
   "metadata": {
    "id": "IM7Xf51G6AXs"
   },
   "source": [
    "# Problema 14"
   ]
  },
  {
   "cell_type": "markdown",
   "metadata": {
    "id": "Ni_4WMQl6OeV"
   },
   "source": [
    "Al llenar un tambor con agua, se registra que durante el minuto $4$ el tambor recibe $128$ litros, y durante el minuto $9$ recibe $88$ litros. Sabiendo que en cada minuto recibe una cantidad $d$ de litros de agua menos que en el minuto anterior, determine:\n",
    "\n",
    "1. ¿En qué instante el tambor deja de recibir agua?\n",
    "2. ¿Cuántos litros recibe en total el tambor?\n",
    "\n",
    "Realice los cálculos anteriores utilizando *Python*."
   ]
  }
 ],
 "metadata": {
  "colab": {
   "provenance": []
  },
  "kernelspec": {
   "display_name": "Python 3",
   "name": "python3"
  },
  "language_info": {
   "codemirror_mode": {
    "name": "ipython",
    "version": 3
   },
   "file_extension": ".py",
   "mimetype": "text/x-python",
   "name": "python",
   "nbconvert_exporter": "python",
   "pygments_lexer": "ipython3",
   "version": "3.12.2"
  }
 },
 "nbformat": 4,
 "nbformat_minor": 0
}
